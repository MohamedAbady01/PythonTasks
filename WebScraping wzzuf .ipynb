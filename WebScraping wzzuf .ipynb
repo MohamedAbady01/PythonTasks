{
 "cells": [
  {
   "cell_type": "code",
   "execution_count": 13,
   "id": "b6578965",
   "metadata": {
    "ExecuteTime": {
     "end_time": "2022-04-16T23:14:53.677719Z",
     "start_time": "2022-04-16T23:14:35.023866Z"
    },
    "run_control": {
     "marked": true
    }
   },
   "outputs": [
    {
     "name": "stdout",
     "output_type": "stream",
     "text": [
      "page switched\n",
      "page switched\n",
      "page switched\n",
      "page switched\n",
      "page switched\n",
      "page switched\n",
      "page switched\n",
      "page switched\n",
      "page switched\n",
      "page switched\n",
      "page switched\n",
      "page switched\n",
      "page switched\n",
      "page switched\n",
      "page switched\n",
      "terminated\n"
     ]
    },
    {
     "ename": "UnicodeEncodeError",
     "evalue": "'charmap' codec can't encode character '\\u27e9' in position 34: character maps to <undefined>",
     "output_type": "error",
     "traceback": [
      "\u001b[1;31m---------------------------------------------------------------------------\u001b[0m",
      "\u001b[1;31mUnicodeEncodeError\u001b[0m                        Traceback (most recent call last)",
      "\u001b[1;32m~\\AppData\\Local\\Temp/ipykernel_7396/987694889.py\u001b[0m in \u001b[0;36m<module>\u001b[1;34m\u001b[0m\n\u001b[0;32m     46\u001b[0m     \u001b[0mwr\u001b[0m\u001b[1;33m=\u001b[0m\u001b[0mcsv\u001b[0m\u001b[1;33m.\u001b[0m\u001b[0mwriter\u001b[0m\u001b[1;33m(\u001b[0m\u001b[0mmyfile\u001b[0m\u001b[1;33m)\u001b[0m\u001b[1;33m\u001b[0m\u001b[1;33m\u001b[0m\u001b[0m\n\u001b[0;32m     47\u001b[0m     \u001b[0mwr\u001b[0m\u001b[1;33m.\u001b[0m\u001b[0mwriterow\u001b[0m\u001b[1;33m(\u001b[0m\u001b[1;33m[\u001b[0m\u001b[1;34m\"JobTitle\"\u001b[0m\u001b[1;33m,\u001b[0m\u001b[1;34m\"CompanyName\"\u001b[0m\u001b[1;33m,\u001b[0m\u001b[1;34m\"Date\"\u001b[0m\u001b[1;33m,\u001b[0m\u001b[1;34m\"CompanyLocations\"\u001b[0m\u001b[1;33m,\u001b[0m\u001b[1;34m\"Skills\"\u001b[0m\u001b[1;33m,\u001b[0m\u001b[1;34m\"Links\"\u001b[0m\u001b[1;33m]\u001b[0m\u001b[1;33m)\u001b[0m\u001b[1;33m\u001b[0m\u001b[1;33m\u001b[0m\u001b[0m\n\u001b[1;32m---> 48\u001b[1;33m     \u001b[0mwr\u001b[0m\u001b[1;33m.\u001b[0m\u001b[0mwriterows\u001b[0m\u001b[1;33m(\u001b[0m\u001b[0mexported\u001b[0m\u001b[1;33m)\u001b[0m\u001b[1;33m\u001b[0m\u001b[1;33m\u001b[0m\u001b[0m\n\u001b[0m",
      "\u001b[1;32m~\\anaconda3\\lib\\encodings\\cp1252.py\u001b[0m in \u001b[0;36mencode\u001b[1;34m(self, input, final)\u001b[0m\n\u001b[0;32m     17\u001b[0m \u001b[1;32mclass\u001b[0m \u001b[0mIncrementalEncoder\u001b[0m\u001b[1;33m(\u001b[0m\u001b[0mcodecs\u001b[0m\u001b[1;33m.\u001b[0m\u001b[0mIncrementalEncoder\u001b[0m\u001b[1;33m)\u001b[0m\u001b[1;33m:\u001b[0m\u001b[1;33m\u001b[0m\u001b[1;33m\u001b[0m\u001b[0m\n\u001b[0;32m     18\u001b[0m     \u001b[1;32mdef\u001b[0m \u001b[0mencode\u001b[0m\u001b[1;33m(\u001b[0m\u001b[0mself\u001b[0m\u001b[1;33m,\u001b[0m \u001b[0minput\u001b[0m\u001b[1;33m,\u001b[0m \u001b[0mfinal\u001b[0m\u001b[1;33m=\u001b[0m\u001b[1;32mFalse\u001b[0m\u001b[1;33m)\u001b[0m\u001b[1;33m:\u001b[0m\u001b[1;33m\u001b[0m\u001b[1;33m\u001b[0m\u001b[0m\n\u001b[1;32m---> 19\u001b[1;33m         \u001b[1;32mreturn\u001b[0m \u001b[0mcodecs\u001b[0m\u001b[1;33m.\u001b[0m\u001b[0mcharmap_encode\u001b[0m\u001b[1;33m(\u001b[0m\u001b[0minput\u001b[0m\u001b[1;33m,\u001b[0m\u001b[0mself\u001b[0m\u001b[1;33m.\u001b[0m\u001b[0merrors\u001b[0m\u001b[1;33m,\u001b[0m\u001b[0mencoding_table\u001b[0m\u001b[1;33m)\u001b[0m\u001b[1;33m[\u001b[0m\u001b[1;36m0\u001b[0m\u001b[1;33m]\u001b[0m\u001b[1;33m\u001b[0m\u001b[1;33m\u001b[0m\u001b[0m\n\u001b[0m\u001b[0;32m     20\u001b[0m \u001b[1;33m\u001b[0m\u001b[0m\n\u001b[0;32m     21\u001b[0m \u001b[1;32mclass\u001b[0m \u001b[0mIncrementalDecoder\u001b[0m\u001b[1;33m(\u001b[0m\u001b[0mcodecs\u001b[0m\u001b[1;33m.\u001b[0m\u001b[0mIncrementalDecoder\u001b[0m\u001b[1;33m)\u001b[0m\u001b[1;33m:\u001b[0m\u001b[1;33m\u001b[0m\u001b[1;33m\u001b[0m\u001b[0m\n",
      "\u001b[1;31mUnicodeEncodeError\u001b[0m: 'charmap' codec can't encode character '\\u27e9' in position 34: character maps to <undefined>"
     ]
    }
   ],
   "source": [
    "import requests\n",
    "from bs4 import BeautifulSoup\n",
    "import csv\n",
    "from itertools import zip_longest\n",
    "PageNumber=0\n",
    "jobTittles=[]\n",
    "CompanyNames=[]\n",
    "CompanyLocations=[]\n",
    "skill=[]\n",
    "links=[]\n",
    "postedlist=[]\n",
    "salary=[]\n",
    "try:\n",
    "    while True:\n",
    "            result =requests.get(f\"https://wuzzuf.net/search/jobs/?a=hpb&q=python%20&start={PageNumber}\")\n",
    "            Source= result.content\n",
    "            soup= BeautifulSoup(Source,\"lxml\")\n",
    "            limit=int(soup.find(\"strong\").text)\n",
    "            if (PageNumber> limit // 15):\n",
    "                print(\"terminated\")\n",
    "                break\n",
    "            Job_Titles = soup.find_all(\"h2\",{\"class\":\"css-m604qf\"})\n",
    "            Company_Names=soup.find_all(\"a\",{\"class\":\"css-17s97q8\"})  \n",
    "            Company_Locations=soup.find_all(\"span\",{\"class\":\"css-5wys0k\"})\n",
    "            Skills=soup.find_all(\"a\",{\"class\":\"css-o171kl\"})\n",
    "            posted_new=soup.find_all(\"div\",{\"class\":\"css-4c4ojb\"})\n",
    "            posted_old=soup.find_all(\"div\",{\"class\":\"css-do6t5g\"})\n",
    "            posted=[*posted_new,*posted_old]\n",
    "            for i in range(len(Job_Titles)):\n",
    "                jobTittles.append(Job_Titles[i].text)\n",
    "                links.append(Job_Titles[i].find(\"a\").attrs['href'])\n",
    "                CompanyNames.append(Company_Names[i].text)\n",
    "                CompanyLocations.append(Company_Locations[i].text)\n",
    "                skill.append(Skills[i].text)\n",
    "                postedlist.append(posted[i].text)\n",
    "            PageNumber+= 1\n",
    "            print (\"page switched\")\n",
    "except:\n",
    "    print(\"Check for some errors\")\n",
    "    \n",
    "\n",
    "\n",
    "myData=[jobTittles,CompanyNames,postedlist,CompanyLocations,skill,links]\n",
    "exported = zip_longest(*myData)\n",
    "with open(\"C:/Users/moels/WebScrabing.csv\",\"w\") as myfile:\n",
    "    wr=csv.writer(myfile)\n",
    "    wr.writerow([\"JobTitle\",\"CompanyName\",\"Date\",\"CompanyLocations\",\"Skills\",\"Links\"])\n",
    "    wr.writerows(exported)"
   ]
  },
  {
   "cell_type": "code",
   "execution_count": null,
   "id": "4148ad05",
   "metadata": {
    "ExecuteTime": {
     "end_time": "2022-04-16T20:46:42.549143Z",
     "start_time": "2022-04-16T20:46:42.463869Z"
    }
   },
   "outputs": [],
   "source": []
  },
  {
   "cell_type": "code",
   "execution_count": null,
   "id": "25f6e2dd",
   "metadata": {
    "ExecuteTime": {
     "start_time": "2022-04-16T23:02:52.513Z"
    }
   },
   "outputs": [],
   "source": [
    "print(limit)"
   ]
  },
  {
   "cell_type": "code",
   "execution_count": 78,
   "id": "0a130067",
   "metadata": {
    "ExecuteTime": {
     "end_time": "2022-04-16T22:20:22.606632Z",
     "start_time": "2022-04-16T22:20:22.326660Z"
    }
   },
   "outputs": [],
   "source": []
  },
  {
   "cell_type": "code",
   "execution_count": null,
   "id": "1c602cd7",
   "metadata": {
    "ExecuteTime": {
     "start_time": "2022-04-16T22:26:11.329Z"
    }
   },
   "outputs": [],
   "source": []
  },
  {
   "cell_type": "code",
   "execution_count": null,
   "id": "e6b6ba53",
   "metadata": {
    "ExecuteTime": {
     "start_time": "2022-04-16T22:40:30.280Z"
    }
   },
   "outputs": [],
   "source": [
    "\n",
    "    "
   ]
  },
  {
   "cell_type": "code",
   "execution_count": null,
   "id": "98650501",
   "metadata": {
    "ExecuteTime": {
     "start_time": "2022-04-16T22:29:23.351Z"
    }
   },
   "outputs": [],
   "source": []
  },
  {
   "cell_type": "code",
   "execution_count": null,
   "id": "e22ba9ca",
   "metadata": {
    "ExecuteTime": {
     "start_time": "2022-04-16T22:37:26.270Z"
    }
   },
   "outputs": [],
   "source": []
  },
  {
   "cell_type": "code",
   "execution_count": null,
   "id": "b1961986",
   "metadata": {
    "ExecuteTime": {
     "start_time": "2022-04-16T22:25:23.299Z"
    }
   },
   "outputs": [],
   "source": [
    "\n"
   ]
  },
  {
   "cell_type": "code",
   "execution_count": null,
   "id": "90aadf28",
   "metadata": {
    "ExecuteTime": {
     "end_time": "2022-04-16T21:00:29.571668Z",
     "start_time": "2022-04-16T21:00:29.502920Z"
    }
   },
   "outputs": [],
   "source": []
  },
  {
   "cell_type": "code",
   "execution_count": null,
   "id": "dd83418a",
   "metadata": {
    "ExecuteTime": {
     "start_time": "2022-04-16T22:40:35.817Z"
    }
   },
   "outputs": [],
   "source": []
  },
  {
   "cell_type": "code",
   "execution_count": null,
   "id": "c3e4c74b",
   "metadata": {},
   "outputs": [],
   "source": []
  },
  {
   "cell_type": "code",
   "execution_count": null,
   "id": "19dfcc92",
   "metadata": {},
   "outputs": [],
   "source": []
  },
  {
   "cell_type": "code",
   "execution_count": null,
   "id": "68e1f74e",
   "metadata": {},
   "outputs": [],
   "source": []
  },
  {
   "cell_type": "code",
   "execution_count": null,
   "id": "d0f7aa67",
   "metadata": {},
   "outputs": [],
   "source": []
  },
  {
   "cell_type": "code",
   "execution_count": null,
   "id": "cbcb5e83",
   "metadata": {},
   "outputs": [],
   "source": []
  }
 ],
 "metadata": {
  "kernelspec": {
   "display_name": "Python 3 (ipykernel)",
   "language": "python",
   "name": "python3"
  },
  "language_info": {
   "codemirror_mode": {
    "name": "ipython",
    "version": 3
   },
   "file_extension": ".py",
   "mimetype": "text/x-python",
   "name": "python",
   "nbconvert_exporter": "python",
   "pygments_lexer": "ipython3",
   "version": "3.9.7"
  }
 },
 "nbformat": 4,
 "nbformat_minor": 5
}
