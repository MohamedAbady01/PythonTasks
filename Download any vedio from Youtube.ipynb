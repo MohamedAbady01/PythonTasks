{
 "cells": [
  {
   "cell_type": "code",
   "execution_count": 41,
   "id": "fffa7594",
   "metadata": {
    "ExecuteTime": {
     "end_time": "2022-04-22T05:31:37.919700Z",
     "start_time": "2022-04-22T05:31:32.419021Z"
    }
   },
   "outputs": [
    {
     "name": "stdout",
     "output_type": "stream",
     "text": [
      "put your vedio link\"dasasfasfad\"\n",
      "\"dasasfasfad\"\n"
     ]
    }
   ],
   "source": [
    "from pytube import YouTube\n",
    "import os\n",
    "from __future__ import unicode_literals\n",
    "import youtube_dl\n",
    "link=input(\"put your vedio link\")\n",
    "print(link)\n",
    "ydl_opts = {}\n",
    "os.chdir('C:/Users/moels/')\n",
    "with youtube_dl.YoutubeDL(ydl_opts) as ydl:\n",
    "    ydl.download([link])"
   ]
  },
  {
   "cell_type": "code",
   "execution_count": null,
   "id": "147f4cae",
   "metadata": {
    "ExecuteTime": {
     "end_time": "2022-04-22T05:11:54.418355Z",
     "start_time": "2022-04-22T05:11:41.449555Z"
    }
   },
   "outputs": [],
   "source": []
  },
  {
   "cell_type": "code",
   "execution_count": null,
   "id": "4aebc161",
   "metadata": {
    "ExecuteTime": {
     "end_time": "2022-04-22T05:11:56.735639Z",
     "start_time": "2022-04-22T05:11:54.423381Z"
    }
   },
   "outputs": [],
   "source": []
  },
  {
   "cell_type": "code",
   "execution_count": null,
   "id": "be10fe8f",
   "metadata": {
    "ExecuteTime": {
     "end_time": "2022-04-22T04:22:45.260495Z",
     "start_time": "2022-04-22T04:22:44.440697Z"
    }
   },
   "outputs": [],
   "source": []
  },
  {
   "cell_type": "code",
   "execution_count": 29,
   "id": "ea5bb109",
   "metadata": {
    "ExecuteTime": {
     "end_time": "2022-04-22T05:21:08.334254Z",
     "start_time": "2022-04-22T05:20:58.381248Z"
    }
   },
   "outputs": [
    {
     "name": "stdout",
     "output_type": "stream",
     "text": [
      "Requirement already satisfied: youtube_dl in c:\\users\\moels\\anaconda3\\lib\\site-packages (2021.12.17)Note: you may need to restart the kernel to use updated packages.\n",
      "\n"
     ]
    }
   ],
   "source": [
    "\n"
   ]
  },
  {
   "cell_type": "code",
   "execution_count": null,
   "id": "6ba1bcb0",
   "metadata": {},
   "outputs": [],
   "source": []
  }
 ],
 "metadata": {
  "kernelspec": {
   "display_name": "Python 3 (ipykernel)",
   "language": "python",
   "name": "python3"
  },
  "language_info": {
   "codemirror_mode": {
    "name": "ipython",
    "version": 3
   },
   "file_extension": ".py",
   "mimetype": "text/x-python",
   "name": "python",
   "nbconvert_exporter": "python",
   "pygments_lexer": "ipython3",
   "version": "3.9.7"
  }
 },
 "nbformat": 4,
 "nbformat_minor": 5
}
